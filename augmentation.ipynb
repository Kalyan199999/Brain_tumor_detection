{
 "cells": [
  {
   "cell_type": "markdown",
   "id": "9c685a53-2618-40e6-aa1c-97ee7f45fa42",
   "metadata": {},
   "source": [
    "# Data augumentation"
   ]
  },
  {
   "cell_type": "code",
   "execution_count": 5,
   "id": "55c8915a-008a-431d-8c90-0f2a6890c29c",
   "metadata": {},
   "outputs": [],
   "source": [
    "import os\n",
    "import cv2\n",
    "import numpy as np\n",
    "from tensorflow.keras.preprocessing.image import ImageDataGenerator\n",
    "from tqdm import tqdm\n",
    "\n",
    "import matplotlib.pyplot as plt"
   ]
  },
  {
   "cell_type": "code",
   "execution_count": 2,
   "id": "f5c95162-6191-4403-9d02-8677aff5c6cd",
   "metadata": {},
   "outputs": [],
   "source": [
    "import warnings \n",
    "warnings.filterwarnings('ignore')"
   ]
  },
  {
   "cell_type": "code",
   "execution_count": 3,
   "id": "a16012ac-4e9d-46c2-b691-19e1060da970",
   "metadata": {},
   "outputs": [],
   "source": [
    "DATASET_PATH = './brain_tumor_dataset'\n",
    "AUGMENTED_PATH = './augmented_data'"
   ]
  },
  {
   "cell_type": "code",
   "execution_count": null,
   "id": "16feb640-7dd3-471d-9cd2-54deec8e8e94",
   "metadata": {},
   "outputs": [],
   "source": []
  },
  {
   "cell_type": "markdown",
   "id": "411afd81-52c6-4ca6-a73d-589b93a37598",
   "metadata": {},
   "source": [
    "# Rename the images"
   ]
  },
  {
   "cell_type": "code",
   "execution_count": 40,
   "id": "443fcfba-1e65-4416-b6dd-a3abb05cef92",
   "metadata": {},
   "outputs": [],
   "source": [
    "for folder in os.listdir( DATASET_PATH ):\n",
    "    \n",
    "    i = 1\n",
    "    \n",
    "    for imgs in os.listdir( os.path.join( DATASET_PATH , folder ) ):\n",
    "        \n",
    "        old_path = os.path.join( DATASET_PATH , folder ,imgs )\n",
    "        new_path = os.path.join( DATASET_PATH , folder , f'{folder}_{i}.jpg' )\n",
    "        \n",
    "        if( os.path.exists( new_path ) == False):\n",
    "            os.rename( old_path , new_path )\n",
    "            \n",
    "        i += 1\n",
    "        "
   ]
  },
  {
   "cell_type": "code",
   "execution_count": null,
   "id": "2abe1b94-7546-402f-8609-e26002527358",
   "metadata": {},
   "outputs": [],
   "source": []
  },
  {
   "cell_type": "markdown",
   "id": "ad842e6c-f893-4f98-9f82-b97240b71b60",
   "metadata": {},
   "source": [
    "# Define Data Augmentation"
   ]
  },
  {
   "cell_type": "code",
   "execution_count": 58,
   "id": "255f1d91-8c80-4ab4-b58a-66022a67388b",
   "metadata": {},
   "outputs": [],
   "source": [
    "datagen = ImageDataGenerator(\n",
    "    rotation_range=20,\n",
    "    width_shift_range=0.2,\n",
    "    height_shift_range=0.2,\n",
    "    shear_range=0.2,\n",
    "    brightness_range=[0.8, 1.2],\n",
    "    zoom_range=0.2,\n",
    "    horizontal_flip=True,\n",
    "    fill_mode=\"nearest\"\n",
    ")"
   ]
  },
  {
   "cell_type": "code",
   "execution_count": 59,
   "id": "6fc9c289-2543-46c5-b18a-0bd535dfb8cc",
   "metadata": {},
   "outputs": [],
   "source": []
  },
  {
   "cell_type": "markdown",
   "id": "41645382-43e3-4d35-9df3-e250bc247260",
   "metadata": {},
   "source": [
    "# Perform the Data augmentation"
   ]
  },
  {
   "cell_type": "code",
   "execution_count": 67,
   "id": "52b5e32e-4489-4d42-af90-6807bd65dc64",
   "metadata": {},
   "outputs": [],
   "source": [
    "IMG_SIZE = (250,250)\n",
    "\n",
    "for folder in os.listdir( DATASET_PATH ):\n",
    "\n",
    "    img_no = 1\n",
    "    aug_size = 11\n",
    "    \n",
    "    if(folder == 'yes'):\n",
    "        aug_size = 7\n",
    "    \n",
    "    for imgs in os.listdir( os.path.join( DATASET_PATH , folder ) ):\n",
    "        \n",
    "        img_path = os.path.join( DATASET_PATH , folder ,imgs ) \n",
    "        \n",
    "        \n",
    "        if( os.path.isfile( img_path) ):\n",
    "            image = cv2.imread( img_path )\n",
    "            # print(img_path)\n",
    "            image = cv2.resize( image , IMG_SIZE )\n",
    "            # plt.imshow(image)\n",
    "            # plt.show()\n",
    "            image = np.expand_dims(image, axis=0)\n",
    "            \n",
    "            i = 0\n",
    "            \n",
    "            saving_path = os.path.join( AUGMENTED_PATH , folder )\n",
    "            \n",
    "            for batch in datagen.flow( image, batch_size=1):\n",
    "                \n",
    "                aug_img = batch[0].astype(np.uint8)\n",
    "                \n",
    "                aug_img_path = os.path.join( saving_path ,  f'augmented_{folder}_{img_no}.jpg')\n",
    "                \n",
    "                # print( img_path +\"  \"+ aug_img_path )\n",
    "\n",
    "                if( os.path.exists( aug_img_path ) ):\n",
    "                    continue\n",
    "                \n",
    "                cv2.imwrite(  aug_img_path , aug_img )\n",
    "                \n",
    "                img_no += 1\n",
    "                \n",
    "                i += 1\n",
    "                if i >= aug_size:  # Generate 5 augmented images per original image\n",
    "                    break"
   ]
  },
  {
   "cell_type": "code",
   "execution_count": null,
   "id": "71f0f062-9c62-4a8b-b61b-701790dde4ef",
   "metadata": {},
   "outputs": [],
   "source": []
  }
 ],
 "metadata": {
  "kernelspec": {
   "display_name": "Python 3 (ipykernel)",
   "language": "python",
   "name": "python3"
  },
  "language_info": {
   "codemirror_mode": {
    "name": "ipython",
    "version": 3
   },
   "file_extension": ".py",
   "mimetype": "text/x-python",
   "name": "python",
   "nbconvert_exporter": "python",
   "pygments_lexer": "ipython3",
   "version": "3.12.4"
  }
 },
 "nbformat": 4,
 "nbformat_minor": 5
}
